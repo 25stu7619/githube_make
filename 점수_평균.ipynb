{
  "nbformat": 4,
  "nbformat_minor": 0,
  "metadata": {
    "colab": {
      "provenance": [],
      "gpuType": "T4",
      "authorship_tag": "ABX9TyM32ljMACLbuvcj9f1+4zlh",
      "include_colab_link": true
    },
    "kernelspec": {
      "name": "python3",
      "display_name": "Python 3"
    },
    "language_info": {
      "name": "python"
    },
    "accelerator": "GPU"
  },
  "cells": [
    {
      "cell_type": "markdown",
      "metadata": {
        "id": "view-in-github",
        "colab_type": "text"
      },
      "source": [
        "<a href=\"https://colab.research.google.com/github/25stu7619/githube_make/blob/main/%EC%A0%90%EC%88%98_%ED%8F%89%EA%B7%A0.ipynb\" target=\"_parent\"><img src=\"https://colab.research.google.com/assets/colab-badge.svg\" alt=\"Open In Colab\"/></a>"
      ]
    },
    {
      "cell_type": "code",
      "execution_count": 1,
      "metadata": {
        "colab": {
          "base_uri": "https://localhost:8080/",
          "height": 110
        },
        "id": "RdXA6hqroC9U",
        "outputId": "edc52666-e651-4aee-bff5-2fec9ef978f5"
      },
      "outputs": [
        {
          "output_type": "error",
          "ename": "SyntaxError",
          "evalue": "invalid syntax (ipython-input-2671664748.py, line 10)",
          "traceback": [
            "\u001b[0;36m  File \u001b[0;32m\"/tmp/ipython-input-2671664748.py\"\u001b[0;36m, line \u001b[0;32m10\u001b[0m\n\u001b[0;31m    \"\"\"넘파이 배열과 pandas를 사용한 평균 계산\"\"\"1100\u001b[0m\n\u001b[0m                                   ^\u001b[0m\n\u001b[0;31mSyntaxError\u001b[0m\u001b[0;31m:\u001b[0m invalid syntax\n"
          ]
        }
      ],
      "source": [
        "import pandas as pd\n",
        "import numpy as np\n",
        "import matplotlib.pyplot as plt\n",
        "\n",
        "# 한글 폰트 설정\n",
        "plt.rcParams['font.family'] = 'DejaVu Sans'\n",
        "plt.rcParams['axes.unicode_minus'] = False\n",
        "\n",
        "def calculate_average():\n",
        "    \"\"\"넘파이 배열과 pandas를 사용한 평균 계산\"\"\"1100\n",
        "\n",
        "    # 과목 리스트\n",
        "    subjects = ['국어', '영어', '수학', '과학', '사회', '역사']\n",
        "\n",
        "    print(\"=\" * 40)\n",
        "    print(\"과목별 점수 입력\")\n",
        "    print(\"=\" * 40)\n",
        "\n",
        "    # 점수 입력\n",
        "    scores = []\n",
        "    for i, subject in enumerate(subjects, 1):\n",
        "        while True:\n",
        "            try:\n",
        "                score = float(input(f\"{i}. {subject} 점수: \"))\n",
        "                if 0 <= score <= 100:\n",
        "                    scores.append(score)\n",
        "                    break\n",
        "                else:\n",
        "                    print(\"   0~100 사이로 입력하세요.\")\n",
        "            except ValueError:\n",
        "                print(\"   숫자를 입력하세요.\")\n",
        "\n",
        "    scores_array = np.array(scores)\n",
        "\n",
        "    average = np.mean(scores_array)\n",
        "\n",
        "    df = pd.DataFrame({\n",
        "        '과목': subjects,\n",
        "        '점수': scores\n",
        "    })\n",
        "\n",
        "    print(\"\\n\" + \"=\" * 40)\n",
        "    print(\"성적표\")\n",
        "    print(\"=\" * 40)\n",
        "    print(df.to_string(index=False))\n",
        "    print(\"=\" * 40)\n",
        "    print(f\"평균: {average:.2f}점\")\n",
        "    print(\"=\" * 40)\n",
        "\n",
        "    return scores_array, df, average\n",
        "\n",
        "\n",
        "if __name__ == \"__main__\":\n",
        "    arr, df, avg = calculate_average()"
      ]
    }
  ]
}